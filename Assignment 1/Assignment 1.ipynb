{
 "cells": [
  {
   "cell_type": "markdown",
   "id": "85a698f4",
   "metadata": {},
   "source": [
    "# **Energy consumption measurement using RAPL Report**\n",
    "\n",
    "**Course:** Complex IT Systems  \n",
    "**Author:** Eray Erkul  \n",
    "**Date:** 18 October 2025  \n",
    "\n",
    "---"
   ]
  },
  {
   "cell_type": "markdown",
   "id": "1a5e24cd",
   "metadata": {},
   "source": [
    "**References:**\n",
    "Mostly code are used from the **\"comparing samples from normal distrubution.ipynb\"** and **\"comparing two non-normal distrbutions by random sampling.ipynb\"** on the moodle. The article, **\"RAPL in Action: Experiences in Using RAPL for Power Measurements\"** was also used.\n",
    "\"DETERMINATION OF SAMPLE SIZE AND SAMPLING METHODS IN APPLIED RESEARCH\" - DOI:10.24874/PES03.01.003.\n",
    "\n",
    "Lastly **AI** was also used to give an overview of my project and if i had missed something from the requirements. Few code was used with AI and modified by me to match with the needs i had. These places are noted as #AI as a comment next to the code."
   ]
  },
  {
   "cell_type": "markdown",
   "id": "08798de2",
   "metadata": {},
   "source": [
    "## 1. Research questions and Hypothesis"
   ]
  },
  {
   "cell_type": "markdown",
   "id": "63d5b9cf",
   "metadata": {},
   "source": [
    "## **1.1 Research Question**\n",
    "\n",
    "**Overall Question:**  \n",
    "Which software characteristic has the largest impact on energy consumption compared to CPU-intensive workloads?\n",
    "\n",
    "**Precise Research Question:**  \n",
    "Given equal execution time for both CPU and DRAM, do DRAM‑intensive workloads use less energy than CPU‑bound workloads, even with frequent memory accesses?\n",
    "\n",
    "---"
   ]
  },
  {
   "cell_type": "markdown",
   "id": "4e7d5d6a",
   "metadata": {},
   "source": [
    "### **1.2 Hypotheses** \n",
    "\n",
    "**Null Hypothesis (H₀):**  \n",
    "There is **no significant difference** in energy consumption between DRAM heavey workloads and CPU-bound workloads, when controlling for execution time.\n",
    "\n",
    "**Alternative Hypothesis (H₁):**  \n",
    "There is a **significant difference** in energy consumption. DRAM heavy workloads consume **less** energy than CPU-bound workloads, when controlling for execution time.\n",
    "\n",
    "---"
   ]
  },
  {
   "cell_type": "markdown",
   "id": "3f519fe9",
   "metadata": {},
   "source": [
    "### **1.3 Variables**\n",
    "**Independent variable:**  \n",
    "The independent variable in this experiment is the stress tests for CPU and memory (DRAM). The memory stress code was adjusted to match the structure of the code used for the other classes.\n",
    "\n",
    "**Dependent variable:**  \n",
    "The dependent variable is the energy consumption that CPU and memory use during the test and is measured by using RAPL. \n",
    "\n",
    "**Choice of Dependent Variables**\n",
    "Memory (DRAM) was chosen because it stores data temporarily while programs are running. It is fast and can use a lot of energy under load, but i believe it uses less energy than the CPU.\n",
    "\n",
    "**Controlled variables:**\n",
    "All tests are conducted under the following controlled conditions:\n",
    "- Hardware: All test PCs use identical hardwares.\n",
    "- Operating system: All PCs run the same Linux and version (Ubuntu Server 24.04 LTS).\n",
    "- Power and services: Laptops are connected to AC power, and nonessential background services are disabled.\n",
    "- Cooling and environment: Tests are done at similar device temperatures, on the same surface, and under similar surrounding conditions.\n",
    "\n",
    "**Comfounding variables**:\n",
    "- Outcome of the memory stress test has negative numbers.\n",
    "- Small differences in temperature or how well the computer was cooled could have affected how much power the CPU or memory used.\n",
    "- dbus service was not disabled and might have an affect.\n",
    "---"
   ]
  },
  {
   "cell_type": "markdown",
   "id": "fa04ef89",
   "metadata": {},
   "source": [
    "## **2. Methodology**"
   ]
  },
  {
   "cell_type": "markdown",
   "id": "1d7dad28",
   "metadata": {},
   "source": [
    "In this experiment, we measure the energy consumption of CPU-intensive and DRAM-intensive workloads. To do this, we use Intel’s Running Average Power Limit (RAPL) feature, which measures accurate energy consumption data from the CPU. Stress-ng is used to run different workloads that simulate heavy CPU and memory usage. \n",
    "The experiment was conducted on a Dell Latitude laptop with the following specifications:\n",
    "\n",
    "- Intel® Core™ i5-8350U @ 1.70GHz\n",
    "- System Memory: 16 GiB RAM\n",
    "- Storage: CA3-8D256-Q11 NVMe LITEON 256 GB\n",
    "- Display: Intel UHD Graphics 620\n",
    "\n",
    "All services were disabled during stress testing, although dbus could not be disabled."
   ]
  },
  {
   "cell_type": "markdown",
   "id": "39fd0a72",
   "metadata": {},
   "source": [
    "To determine the sample size for the experiment, Cochran’s formula is applied: $n = \\frac{Z^2 * p * q}{e^2}$\n",
    "- Z is the Z-score i.e conffidence level. (For a 95% confidence interval, the Z-score from the standard normal distribution is 1.96.)\n",
    "- p is the estimated proportion of the population. (Since we do not have prior information about the data, we use 0.5 as a conservative estimate.)\n",
    "- q is 1 - p\n",
    "- and e is the Desired margin of error (precision). (A value of 0.05 means the result should be within 5% of the actual population.)\n",
    "\n",
    "Cochran’s sample size formula helps researchers figure out how many participants or data points are needed for a study. \n",
    "For this study, a 95% confidence level will be used."
   ]
  },
  {
   "cell_type": "code",
   "execution_count": 8,
   "id": "276a0c24",
   "metadata": {},
   "outputs": [
    {
     "name": "stdout",
     "output_type": "stream",
     "text": [
      "Calculated sample size for the study: 384.1599999999999\n"
     ]
    }
   ],
   "source": [
    "z = 1.96\n",
    "p = 0.5\n",
    "q = 1 - p\n",
    "e = 0.05\n",
    "\n",
    "n = (z**2 * p * q)/e**2\n",
    "print(f\"Calculated sample size for the study: {n}\")"
   ]
  },
  {
   "cell_type": "markdown",
   "id": "c9b484a9",
   "metadata": {},
   "source": [
    "Each stress test has been run 400 times with a 20 seconds timeout per run. Based on Cochran's formula, at least 384 runs were required to ensure the sample size was large enough for a reliable analysis."
   ]
  },
  {
   "cell_type": "markdown",
   "id": "7405d8c4",
   "metadata": {},
   "source": [
    "KOM IND PÅ EXPERIMENTAL SETUP OG CONTROLLED SETUP"
   ]
  },
  {
   "cell_type": "markdown",
   "id": "acd55cbb",
   "metadata": {},
   "source": [
    "The stress test results are saved in a CSV file. Only the energy consumption measurements of the CPU and the whole package (PKG) are included. Measurements from NN and NN2 are excluded."
   ]
  },
  {
   "cell_type": "markdown",
   "id": "9cc712c6",
   "metadata": {},
   "source": [
    "To whether accept or reject the null hypotheses, I must perform a statistical analysis"
   ]
  },
  {
   "cell_type": "code",
   "execution_count": 10,
   "id": "4690fbf6",
   "metadata": {},
   "outputs": [],
   "source": [
    "import pandas as pd\n",
    "import numpy as np\n",
    "import scipy.stats as stats\n",
    "import seaborn as sns\n",
    "import matplotlib.pyplot as plt\n",
    "import math \n",
    "import random"
   ]
  },
  {
   "cell_type": "markdown",
   "id": "f9b70837",
   "metadata": {},
   "source": [
    "Before starting to work on the data, i need to make sure the data formatation is correct, for that i need to change the ';' into a ','. To do this, using sep= will do the job."
   ]
  },
  {
   "cell_type": "code",
   "execution_count": 14,
   "id": "f2fb8ae2",
   "metadata": {},
   "outputs": [
    {
     "data": {
      "text/html": [
       "<div>\n",
       "<style scoped>\n",
       "    .dataframe tbody tr th:only-of-type {\n",
       "        vertical-align: middle;\n",
       "    }\n",
       "\n",
       "    .dataframe tbody tr th {\n",
       "        vertical-align: top;\n",
       "    }\n",
       "\n",
       "    .dataframe thead th {\n",
       "        text-align: right;\n",
       "    }\n",
       "</style>\n",
       "<table border=\"1\" class=\"dataframe\">\n",
       "  <thead>\n",
       "    <tr style=\"text-align: right;\">\n",
       "      <th></th>\n",
       "      <th>test</th>\n",
       "      <th>PKG</th>\n",
       "      <th>CPU</th>\n",
       "      <th>time</th>\n",
       "    </tr>\n",
       "  </thead>\n",
       "  <tbody>\n",
       "    <tr>\n",
       "      <th>0</th>\n",
       "      <td>cpu</td>\n",
       "      <td>780.842224</td>\n",
       "      <td>749.859436</td>\n",
       "      <td>20296.5</td>\n",
       "    </tr>\n",
       "    <tr>\n",
       "      <th>1</th>\n",
       "      <td>cpu</td>\n",
       "      <td>479.237854</td>\n",
       "      <td>450.172913</td>\n",
       "      <td>20398.4</td>\n",
       "    </tr>\n",
       "    <tr>\n",
       "      <th>2</th>\n",
       "      <td>cpu</td>\n",
       "      <td>445.622253</td>\n",
       "      <td>418.648560</td>\n",
       "      <td>20244.8</td>\n",
       "    </tr>\n",
       "    <tr>\n",
       "      <th>3</th>\n",
       "      <td>cpu</td>\n",
       "      <td>447.585815</td>\n",
       "      <td>415.841675</td>\n",
       "      <td>20418.0</td>\n",
       "    </tr>\n",
       "    <tr>\n",
       "      <th>4</th>\n",
       "      <td>cpu</td>\n",
       "      <td>447.605896</td>\n",
       "      <td>416.566711</td>\n",
       "      <td>20353.9</td>\n",
       "    </tr>\n",
       "    <tr>\n",
       "      <th>...</th>\n",
       "      <td>...</td>\n",
       "      <td>...</td>\n",
       "      <td>...</td>\n",
       "      <td>...</td>\n",
       "    </tr>\n",
       "    <tr>\n",
       "      <th>395</th>\n",
       "      <td>cpu</td>\n",
       "      <td>386.230713</td>\n",
       "      <td>353.864685</td>\n",
       "      <td>20516.5</td>\n",
       "    </tr>\n",
       "    <tr>\n",
       "      <th>396</th>\n",
       "      <td>cpu</td>\n",
       "      <td>373.332092</td>\n",
       "      <td>342.597961</td>\n",
       "      <td>20320.0</td>\n",
       "    </tr>\n",
       "    <tr>\n",
       "      <th>397</th>\n",
       "      <td>cpu</td>\n",
       "      <td>382.693298</td>\n",
       "      <td>351.696472</td>\n",
       "      <td>20525.8</td>\n",
       "    </tr>\n",
       "    <tr>\n",
       "      <th>398</th>\n",
       "      <td>cpu</td>\n",
       "      <td>388.489990</td>\n",
       "      <td>356.199036</td>\n",
       "      <td>20552.2</td>\n",
       "    </tr>\n",
       "    <tr>\n",
       "      <th>399</th>\n",
       "      <td>cpu</td>\n",
       "      <td>380.264404</td>\n",
       "      <td>348.870300</td>\n",
       "      <td>20383.6</td>\n",
       "    </tr>\n",
       "  </tbody>\n",
       "</table>\n",
       "<p>400 rows × 4 columns</p>\n",
       "</div>"
      ],
      "text/plain": [
       "    test         PKG         CPU     time\n",
       "0    cpu  780.842224  749.859436  20296.5\n",
       "1    cpu  479.237854  450.172913  20398.4\n",
       "2    cpu  445.622253  418.648560  20244.8\n",
       "3    cpu  447.585815  415.841675  20418.0\n",
       "4    cpu  447.605896  416.566711  20353.9\n",
       "..   ...         ...         ...      ...\n",
       "395  cpu  386.230713  353.864685  20516.5\n",
       "396  cpu  373.332092  342.597961  20320.0\n",
       "397  cpu  382.693298  351.696472  20525.8\n",
       "398  cpu  388.489990  356.199036  20552.2\n",
       "399  cpu  380.264404  348.870300  20383.6\n",
       "\n",
       "[400 rows x 4 columns]"
      ]
     },
     "execution_count": 14,
     "metadata": {},
     "output_type": "execute_result"
    }
   ],
   "source": [
    "data_CPU = pd.read_csv('../Data/cpu-stress-ng.csv', sep=r'[;,\\s]+', engine='python', names=['test','PKG','CPU','time']) #AI was used here i.e. AI added sep=r'[;,\\s]+', engine='python'\n",
    "data_CPU"
   ]
  },
  {
   "cell_type": "code",
   "execution_count": 15,
   "id": "f2ba5e1a",
   "metadata": {},
   "outputs": [
    {
     "data": {
      "text/html": [
       "<div>\n",
       "<style scoped>\n",
       "    .dataframe tbody tr th:only-of-type {\n",
       "        vertical-align: middle;\n",
       "    }\n",
       "\n",
       "    .dataframe tbody tr th {\n",
       "        vertical-align: top;\n",
       "    }\n",
       "\n",
       "    .dataframe thead th {\n",
       "        text-align: right;\n",
       "    }\n",
       "</style>\n",
       "<table border=\"1\" class=\"dataframe\">\n",
       "  <thead>\n",
       "    <tr style=\"text-align: right;\">\n",
       "      <th></th>\n",
       "      <th>test</th>\n",
       "      <th>PKG</th>\n",
       "      <th>CPU</th>\n",
       "      <th>time</th>\n",
       "    </tr>\n",
       "  </thead>\n",
       "  <tbody>\n",
       "    <tr>\n",
       "      <th>0</th>\n",
       "      <td>memory</td>\n",
       "      <td>484.963074</td>\n",
       "      <td>423.709290</td>\n",
       "      <td>23240.3</td>\n",
       "    </tr>\n",
       "    <tr>\n",
       "      <th>1</th>\n",
       "      <td>memory</td>\n",
       "      <td>446.409363</td>\n",
       "      <td>383.956543</td>\n",
       "      <td>23038.3</td>\n",
       "    </tr>\n",
       "    <tr>\n",
       "      <th>2</th>\n",
       "      <td>memory</td>\n",
       "      <td>468.358276</td>\n",
       "      <td>407.212402</td>\n",
       "      <td>23149.1</td>\n",
       "    </tr>\n",
       "    <tr>\n",
       "      <th>3</th>\n",
       "      <td>memory</td>\n",
       "      <td>468.924866</td>\n",
       "      <td>405.436584</td>\n",
       "      <td>23085.6</td>\n",
       "    </tr>\n",
       "    <tr>\n",
       "      <th>4</th>\n",
       "      <td>memory</td>\n",
       "      <td>483.161377</td>\n",
       "      <td>423.068176</td>\n",
       "      <td>23133.6</td>\n",
       "    </tr>\n",
       "    <tr>\n",
       "      <th>...</th>\n",
       "      <td>...</td>\n",
       "      <td>...</td>\n",
       "      <td>...</td>\n",
       "      <td>...</td>\n",
       "    </tr>\n",
       "    <tr>\n",
       "      <th>395</th>\n",
       "      <td>memory</td>\n",
       "      <td>439.955383</td>\n",
       "      <td>371.022034</td>\n",
       "      <td>23800.9</td>\n",
       "    </tr>\n",
       "    <tr>\n",
       "      <th>396</th>\n",
       "      <td>memory</td>\n",
       "      <td>239.430481</td>\n",
       "      <td>183.562012</td>\n",
       "      <td>23779.2</td>\n",
       "    </tr>\n",
       "    <tr>\n",
       "      <th>397</th>\n",
       "      <td>memory</td>\n",
       "      <td>420.123962</td>\n",
       "      <td>358.072510</td>\n",
       "      <td>22604.3</td>\n",
       "    </tr>\n",
       "    <tr>\n",
       "      <th>398</th>\n",
       "      <td>memory</td>\n",
       "      <td>448.154541</td>\n",
       "      <td>381.284973</td>\n",
       "      <td>23190.3</td>\n",
       "    </tr>\n",
       "    <tr>\n",
       "      <th>399</th>\n",
       "      <td>memory</td>\n",
       "      <td>393.668579</td>\n",
       "      <td>325.385620</td>\n",
       "      <td>24678.7</td>\n",
       "    </tr>\n",
       "  </tbody>\n",
       "</table>\n",
       "<p>400 rows × 4 columns</p>\n",
       "</div>"
      ],
      "text/plain": [
       "       test         PKG         CPU     time\n",
       "0    memory  484.963074  423.709290  23240.3\n",
       "1    memory  446.409363  383.956543  23038.3\n",
       "2    memory  468.358276  407.212402  23149.1\n",
       "3    memory  468.924866  405.436584  23085.6\n",
       "4    memory  483.161377  423.068176  23133.6\n",
       "..      ...         ...         ...      ...\n",
       "395  memory  439.955383  371.022034  23800.9\n",
       "396  memory  239.430481  183.562012  23779.2\n",
       "397  memory  420.123962  358.072510  22604.3\n",
       "398  memory  448.154541  381.284973  23190.3\n",
       "399  memory  393.668579  325.385620  24678.7\n",
       "\n",
       "[400 rows x 4 columns]"
      ]
     },
     "execution_count": 15,
     "metadata": {},
     "output_type": "execute_result"
    }
   ],
   "source": [
    "data_memory = pd.read_csv('../Data/memory-stress-ng.csv', sep=r'[;,\\s]+', engine='python', names=['test','PKG','CPU','time'])\n",
    "data_memory"
   ]
  },
  {
   "cell_type": "markdown",
   "id": "0e5c3998",
   "metadata": {},
   "source": [
    "Then i will combine both dataframeworks by using merge (outer function)."
   ]
  },
  {
   "cell_type": "code",
   "execution_count": 19,
   "id": "41a853eb",
   "metadata": {},
   "outputs": [
    {
     "data": {
      "text/html": [
       "<div>\n",
       "<style scoped>\n",
       "    .dataframe tbody tr th:only-of-type {\n",
       "        vertical-align: middle;\n",
       "    }\n",
       "\n",
       "    .dataframe tbody tr th {\n",
       "        vertical-align: top;\n",
       "    }\n",
       "\n",
       "    .dataframe thead th {\n",
       "        text-align: right;\n",
       "    }\n",
       "</style>\n",
       "<table border=\"1\" class=\"dataframe\">\n",
       "  <thead>\n",
       "    <tr style=\"text-align: right;\">\n",
       "      <th></th>\n",
       "      <th>test</th>\n",
       "      <th>PKG</th>\n",
       "      <th>CPU</th>\n",
       "      <th>time</th>\n",
       "    </tr>\n",
       "  </thead>\n",
       "  <tbody>\n",
       "    <tr>\n",
       "      <th>0</th>\n",
       "      <td>cpu</td>\n",
       "      <td>780.842224</td>\n",
       "      <td>749.859436</td>\n",
       "      <td>20296.5</td>\n",
       "    </tr>\n",
       "    <tr>\n",
       "      <th>1</th>\n",
       "      <td>cpu</td>\n",
       "      <td>479.237854</td>\n",
       "      <td>450.172913</td>\n",
       "      <td>20398.4</td>\n",
       "    </tr>\n",
       "    <tr>\n",
       "      <th>2</th>\n",
       "      <td>cpu</td>\n",
       "      <td>445.622253</td>\n",
       "      <td>418.648560</td>\n",
       "      <td>20244.8</td>\n",
       "    </tr>\n",
       "    <tr>\n",
       "      <th>3</th>\n",
       "      <td>cpu</td>\n",
       "      <td>447.585815</td>\n",
       "      <td>415.841675</td>\n",
       "      <td>20418.0</td>\n",
       "    </tr>\n",
       "    <tr>\n",
       "      <th>4</th>\n",
       "      <td>cpu</td>\n",
       "      <td>447.605896</td>\n",
       "      <td>416.566711</td>\n",
       "      <td>20353.9</td>\n",
       "    </tr>\n",
       "    <tr>\n",
       "      <th>...</th>\n",
       "      <td>...</td>\n",
       "      <td>...</td>\n",
       "      <td>...</td>\n",
       "      <td>...</td>\n",
       "    </tr>\n",
       "    <tr>\n",
       "      <th>795</th>\n",
       "      <td>memory</td>\n",
       "      <td>439.955383</td>\n",
       "      <td>371.022034</td>\n",
       "      <td>23800.9</td>\n",
       "    </tr>\n",
       "    <tr>\n",
       "      <th>796</th>\n",
       "      <td>memory</td>\n",
       "      <td>239.430481</td>\n",
       "      <td>183.562012</td>\n",
       "      <td>23779.2</td>\n",
       "    </tr>\n",
       "    <tr>\n",
       "      <th>797</th>\n",
       "      <td>memory</td>\n",
       "      <td>420.123962</td>\n",
       "      <td>358.072510</td>\n",
       "      <td>22604.3</td>\n",
       "    </tr>\n",
       "    <tr>\n",
       "      <th>798</th>\n",
       "      <td>memory</td>\n",
       "      <td>448.154541</td>\n",
       "      <td>381.284973</td>\n",
       "      <td>23190.3</td>\n",
       "    </tr>\n",
       "    <tr>\n",
       "      <th>799</th>\n",
       "      <td>memory</td>\n",
       "      <td>393.668579</td>\n",
       "      <td>325.385620</td>\n",
       "      <td>24678.7</td>\n",
       "    </tr>\n",
       "  </tbody>\n",
       "</table>\n",
       "<p>800 rows × 4 columns</p>\n",
       "</div>"
      ],
      "text/plain": [
       "       test         PKG         CPU     time\n",
       "0       cpu  780.842224  749.859436  20296.5\n",
       "1       cpu  479.237854  450.172913  20398.4\n",
       "2       cpu  445.622253  418.648560  20244.8\n",
       "3       cpu  447.585815  415.841675  20418.0\n",
       "4       cpu  447.605896  416.566711  20353.9\n",
       "..      ...         ...         ...      ...\n",
       "795  memory  439.955383  371.022034  23800.9\n",
       "796  memory  239.430481  183.562012  23779.2\n",
       "797  memory  420.123962  358.072510  22604.3\n",
       "798  memory  448.154541  381.284973  23190.3\n",
       "799  memory  393.668579  325.385620  24678.7\n",
       "\n",
       "[800 rows x 4 columns]"
      ]
     },
     "execution_count": 19,
     "metadata": {},
     "output_type": "execute_result"
    }
   ],
   "source": [
    "concat_two_frameworks = pd.merge(data_CPU, data_memory, on='test', how='outer' )\n",
    "\n",
    "concat_two_frameworks['PKG'] = concat_two_frameworks['PKG_x'].combine_first(concat_two_frameworks['PKG_y'])\n",
    "concat_two_frameworks['CPU'] = concat_two_frameworks['CPU_x'].combine_first(concat_two_frameworks['CPU_y'])\n",
    "concat_two_frameworks['time']= concat_two_frameworks['time_x'].combine_first(concat_two_frameworks['time_y'])\n",
    "\n",
    "combined_df = concat_two_frameworks[['test','PKG','CPU','time']]\n",
    "combined_df"
   ]
  },
  {
   "cell_type": "markdown",
   "id": "53134c11",
   "metadata": {},
   "source": [
    "To get an overview about the data we can use describe() and make some plots about the data."
   ]
  },
  {
   "cell_type": "code",
   "execution_count": 21,
   "id": "371769ca",
   "metadata": {},
   "outputs": [
    {
     "data": {
      "text/html": [
       "<div>\n",
       "<style scoped>\n",
       "    .dataframe tbody tr th:only-of-type {\n",
       "        vertical-align: middle;\n",
       "    }\n",
       "\n",
       "    .dataframe tbody tr th {\n",
       "        vertical-align: top;\n",
       "    }\n",
       "\n",
       "    .dataframe thead th {\n",
       "        text-align: right;\n",
       "    }\n",
       "</style>\n",
       "<table border=\"1\" class=\"dataframe\">\n",
       "  <thead>\n",
       "    <tr style=\"text-align: right;\">\n",
       "      <th></th>\n",
       "      <th>PKG</th>\n",
       "      <th>CPU</th>\n",
       "      <th>time</th>\n",
       "    </tr>\n",
       "  </thead>\n",
       "  <tbody>\n",
       "    <tr>\n",
       "      <th>count</th>\n",
       "      <td>800.000000</td>\n",
       "      <td>800.000000</td>\n",
       "      <td>800.000000</td>\n",
       "    </tr>\n",
       "    <tr>\n",
       "      <th>mean</th>\n",
       "      <td>75.523317</td>\n",
       "      <td>27.739339</td>\n",
       "      <td>21936.753000</td>\n",
       "    </tr>\n",
       "    <tr>\n",
       "      <th>std</th>\n",
       "      <td>9276.013416</td>\n",
       "      <td>9266.708860</td>\n",
       "      <td>1710.199352</td>\n",
       "    </tr>\n",
       "    <tr>\n",
       "      <th>min</th>\n",
       "      <td>-261955.759705</td>\n",
       "      <td>-261740.741150</td>\n",
       "      <td>20213.000000</td>\n",
       "    </tr>\n",
       "    <tr>\n",
       "      <th>25%</th>\n",
       "      <td>384.326294</td>\n",
       "      <td>351.949402</td>\n",
       "      <td>20331.075000</td>\n",
       "    </tr>\n",
       "    <tr>\n",
       "      <th>50%</th>\n",
       "      <td>397.559082</td>\n",
       "      <td>362.471436</td>\n",
       "      <td>21291.100000</td>\n",
       "    </tr>\n",
       "    <tr>\n",
       "      <th>75%</th>\n",
       "      <td>447.528870</td>\n",
       "      <td>388.768463</td>\n",
       "      <td>23303.325000</td>\n",
       "    </tr>\n",
       "    <tr>\n",
       "      <th>max</th>\n",
       "      <td>780.842224</td>\n",
       "      <td>749.859436</td>\n",
       "      <td>28488.300000</td>\n",
       "    </tr>\n",
       "  </tbody>\n",
       "</table>\n",
       "</div>"
      ],
      "text/plain": [
       "                 PKG            CPU          time\n",
       "count     800.000000     800.000000    800.000000\n",
       "mean       75.523317      27.739339  21936.753000\n",
       "std      9276.013416    9266.708860   1710.199352\n",
       "min   -261955.759705 -261740.741150  20213.000000\n",
       "25%       384.326294     351.949402  20331.075000\n",
       "50%       397.559082     362.471436  21291.100000\n",
       "75%       447.528870     388.768463  23303.325000\n",
       "max       780.842224     749.859436  28488.300000"
      ]
     },
     "execution_count": 21,
     "metadata": {},
     "output_type": "execute_result"
    }
   ],
   "source": [
    "combined_df.describe()"
   ]
  },
  {
   "cell_type": "code",
   "execution_count": 20,
   "id": "eb2ed1e6",
   "metadata": {},
   "outputs": [
    {
     "data": {
      "text/plain": [
       "<Axes: xlabel='CPU', ylabel='time'>"
      ]
     },
     "execution_count": 20,
     "metadata": {},
     "output_type": "execute_result"
    },
    {
     "data": {
      "image/png": "[encoded data removed]",
      "text/plain": [
       "<Figure size 640x480 with 1 Axes>"
      ]
     },
     "metadata": {},
     "output_type": "display_data"
    }
   ],
   "source": [
    "sns.scatterplot(data=combined_df,hue='test',x='CPU', y='time')"
   ]
  },
  {
   "cell_type": "code",
   "execution_count": 22,
   "id": "2aa093d8",
   "metadata": {},
   "outputs": [
    {
     "data": {
      "text/plain": [
       "<Axes: xlabel='PKG', ylabel='time'>"
      ]
     },
     "execution_count": 22,
     "metadata": {},
     "output_type": "execute_result"
    },
    {
     "data": {
      "image/png": "[encoded data removed]",
      "text/plain": [
       "<Figure size 640x480 with 1 Axes>"
      ]
     },
     "metadata": {},
     "output_type": "display_data"
    }
   ],
   "source": [
    "sns.scatterplot(data=combined_df,hue='test',x='PKG', y='time')"
   ]
  },
  {
   "cell_type": "code",
   "execution_count": 23,
   "id": "42b30463",
   "metadata": {},
   "outputs": [
    {
     "data": {
      "text/plain": [
       "<Axes: xlabel='CPU', ylabel='Count'>"
      ]
     },
     "execution_count": 23,
     "metadata": {},
     "output_type": "execute_result"
    },
    {
     "name": "stderr",
     "output_type": "stream",
     "text": [
      "C:\\Users\\eray2\\AppData\\Roaming\\Python\\Python313\\site-packages\\IPython\\core\\events.py:82: UserWarning: Creating legend with loc=\"best\" can be slow with large amounts of data.\n",
      "  func(*args, **kwargs)\n",
      "C:\\Users\\eray2\\AppData\\Roaming\\Python\\Python313\\site-packages\\IPython\\core\\pylabtools.py:170: UserWarning: Creating legend with loc=\"best\" can be slow with large amounts of data.\n",
      "  fig.canvas.print_figure(bytes_io, **kw)\n"
     ]
    },
    {
     "data": {
      "image/png": "[encoded data removed]",
      "text/plain": [
       "<Figure size 640x480 with 1 Axes>"
      ]
     },
     "metadata": {},
     "output_type": "display_data"
    }
   ],
   "source": [
    "sns.histplot(data=combined_df,hue='test',x='CPU')\n",
    "sns.kdeplot(data=combined_df,hue='test',x='CPU')"
   ]
  },
  {
   "cell_type": "markdown",
   "id": "ae1afc8c",
   "metadata": {},
   "source": [
    "I can see on the mean and scatterplot that there are negative numbers, so they must be removed.\n",
    "I will check for which group has negative values."
   ]
  },
  {
   "cell_type": "code",
   "execution_count": null,
   "id": "ace98fc8",
   "metadata": {},
   "outputs": [
    {
     "name": "stdout",
     "output_type": "stream",
     "text": [
      "Any negatives in 'PKG'? True\n",
      "Any negatives in 'CPU'? True\n",
      "Any negatives in 'time'? False\n"
     ]
    }
   ],
   "source": [
    "for col in ['PKG', 'CPU', 'time']:\n",
    "    any_negatives = (data_CPU[col] < 0).any()\n",
    "    print(f\"Any negatives in '{col}'? {any_negatives}\")"
   ]
  },
  {
   "cell_type": "code",
   "execution_count": 27,
   "id": "69c41331",
   "metadata": {},
   "outputs": [
    {
     "name": "stdout",
     "output_type": "stream",
     "text": [
      "Any negatives in 'PKG'? True\n",
      "Any negatives in 'CPU'? True\n",
      "Any negatives in 'time'? False\n"
     ]
    }
   ],
   "source": [
    "for col in ['PKG', 'CPU', 'time']:\n",
    "    any_negatives = (data_memory[col] < 0).any()\n",
    "    print(f\"Any negatives in '{col}'? {any_negatives}\")"
   ]
  },
  {
   "cell_type": "markdown",
   "id": "f771cdea",
   "metadata": {},
   "source": [
    "Both groups have negative numbers."
   ]
  },
  {
   "cell_type": "code",
   "execution_count": 28,
   "id": "4c6f8d59",
   "metadata": {},
   "outputs": [
    {
     "name": "stdout",
     "output_type": "stream",
     "text": [
      "Any negatives in 'PKG'? True\n",
      "Any negatives in 'CPU'? True\n",
      "Any negatives in 'time'? False\n"
     ]
    }
   ],
   "source": [
    "for col in ['PKG', 'CPU', 'time']:\n",
    "    any_negatives = (combined_df[col] < 0).any()\n",
    "    print(f\"Any negatives in '{col}'? {any_negatives}\")"
   ]
  },
  {
   "cell_type": "markdown",
   "id": "3c7d82d5",
   "metadata": {},
   "source": [
    "And the overall combined dataframe do of course also have negative numbers"
   ]
  },
  {
   "cell_type": "markdown",
   "id": "34f44223",
   "metadata": {},
   "source": []
  },
  {
   "cell_type": "markdown",
   "id": "f5f12221",
   "metadata": {},
   "source": [
    "First i will check if my data is normal distributed or not. To do so, i will first check for not a number (NaN), negative values, and any outliers, if having some, they must be removed."
   ]
  },
  {
   "cell_type": "code",
   "execution_count": 25,
   "id": "952ec46b",
   "metadata": {},
   "outputs": [
    {
     "data": {
      "text/plain": [
       "test    0\n",
       "PKG     0\n",
       "CPU     0\n",
       "time    0\n",
       "dtype: int64"
      ]
     },
     "execution_count": 25,
     "metadata": {},
     "output_type": "execute_result"
    }
   ],
   "source": [
    "combined_df.isna().sum()"
   ]
  },
  {
   "cell_type": "code",
   "execution_count": null,
   "id": "667f810c",
   "metadata": {},
   "outputs": [],
   "source": []
  }
 ],
 "metadata": {
  "kernelspec": {
   "display_name": "base",
   "language": "python",
   "name": "python3"
  },
  "language_info": {
   "codemirror_mode": {
    "name": "ipython",
    "version": 3
   },
   "file_extension": ".py",
   "mimetype": "text/x-python",
   "name": "python",
   "nbconvert_exporter": "python",
   "pygments_lexer": "ipython3",
   "version": "3.13.5"
  }
 },
 "nbformat": 4,
 "nbformat_minor": 5
}

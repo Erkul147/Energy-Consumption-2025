{
 "cells": [
  {
   "cell_type": "markdown",
   "id": "85a698f4",
   "metadata": {},
   "source": [
    "# **Energy Efficiency Experiment Report**\n",
    "\n",
    "**Course:** Complex IT Systems  \n",
    "**Author:** Eray Erkul  \n",
    "**Date:** 18 October 2025  \n",
    "\n",
    "---"
   ]
  },
  {
   "cell_type": "markdown",
   "id": "1a5e24cd",
   "metadata": {},
   "source": []
  }
 ],
 "metadata": {
  "language_info": {
   "name": "python"
  }
 },
 "nbformat": 4,
 "nbformat_minor": 5
}
